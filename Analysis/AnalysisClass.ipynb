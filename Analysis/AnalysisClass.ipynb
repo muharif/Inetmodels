{
 "cells": [
  {
   "cell_type": "code",
   "execution_count": null,
   "metadata": {},
   "outputs": [],
   "source": [
    "import pandas as pd\n",
    "import numpy as np\n",
    "import os, sys, leidenalg, pickle\n",
    "from scipy.stats import spearmanr\n",
    "from statsmodels.sandbox.stats.multicomp import multipletests\n",
    "import igraph as ig"
   ]
  },
  {
   "cell_type": "code",
   "execution_count": null,
   "metadata": {},
   "outputs": [],
   "source": [
    "class Network_Analysis:\n",
    "    def __init__(self,raw_data,nodes,respath,cat):\n",
    "        self.res_path=respath\n",
    "        self.cat=cat\n",
    "        if os.path.isdir(self.res_path):\n",
    "            pass\n",
    "        else:\n",
    "            os.mkdir(self.res_path)\n",
    "        self.network_ori=self.__calc(raw_data)\n",
    "        self.nodes=nodes\n",
    "\n",
    "        print('Network Analysis')\n",
    "        self.__net_analysis_combi()\n",
    "    \n",
    "    def __calc(self,df):\n",
    "        print('Calculating Correlation..')\n",
    "        temp=spearmanr(df.T)\n",
    "        corr=pd.DataFrame(temp[0],columns=list(df.index),index=list(df.index))\n",
    "        pval=pd.DataFrame(temp[1],columns=list(df.index),index=list(df.index))\n",
    "        print('Filtering the matrix Correlation..')\n",
    "        corr=corr.where(np.triu(np.ones(corr.shape)).astype(np.bool))\n",
    "        pval=pval.where(np.triu(np.ones(pval.shape)).astype(np.bool))\n",
    "        print('Making long table of Correlation..')\n",
    "        corr2=corr.unstack().reset_index(name='weight')\n",
    "        pval2=pval.unstack().reset_index(name='pval')\n",
    "        res=corr2.merge(pval2,on=['level_0','level_1'])\n",
    "        res=res[res['level_0'] != res['level_1']]\n",
    "        res=res.dropna()\n",
    "        res=res[['level_0','level_1','weight','pval']]\n",
    "        res['category'] = self.cat\n",
    "        res['padj']=multipletests(res['pval'],method='fdr_bh')[1]\n",
    "        res=res[res.padj < 0.05].reset_index(drop=True)\n",
    "        res.columns=['source','target','correlation','pvalue','category','padj']\n",
    "        res=res[['source','target','category','correlation','pvalue','padj']]\n",
    "        res.to_csv('%s/%d_edges.txt' % (self.res_path,self.cat),sep='\\t',index=False)\n",
    "        print('Done!!')\n",
    "        return res\n",
    "    \n",
    "    def __net_analysis_combi(self):\n",
    "        print('Loading The Network...')\n",
    "        temp=self.network_ori\n",
    "        g= ig.Graph.TupleList(zip(temp['source'],temp['target'],temp['correlation']),weights=True)\n",
    "        G_pos = g.subgraph_edges(g.es.select(weight_gt = 0), delete_vertices=False)\n",
    "        G_neg = g.subgraph_edges(g.es.select(weight_lt = 0), delete_vertices=False)\n",
    "        G_neg.es['weight'] = [-w for w in G_neg.es['weight']]\n",
    "        part_pos = leidenalg.ModularityVertexPartition(G_pos, weights='weight')\n",
    "        part_neg = leidenalg.ModularityVertexPartition(G_neg, weights='weight');\n",
    "        optimiser = leidenalg.Optimiser()\n",
    "        diff = optimiser.optimise_partition_multiplex([part_pos, part_neg],layer_weights=[1,-1], n_iterations=-1)\n",
    "        self.clustering_combi=pd.DataFrame(pd.Series(part_pos.membership+part_neg.membership,index=G_pos.vs['name']+G_neg.vs['name'])).reset_index().drop_duplicates().set_index('index')[0]\n",
    "        print('Cluster Analysis...')\n",
    "        self.modularity_combi=diff\n",
    "        open('%s/%d_modularity.txt' % (self.res_path,self.cat),'w').write(str(diff))\n",
    "        self.nodes['cluster'] = self.clustering_combi.reindex(self.nodes.index).tolist()\n",
    "        self.nodes.to_csv('%s/%d_nodes.txt' % (self.res_path,self.cat),sep='\\t')\n",
    "    \n",
    "    def save_network(self):\n",
    "        pickle_out = open('%s/%d_network_object.pkl' % (self.res_path,self.cat),\"wb\")\n",
    "        pickle.dump(self, pickle_out)\n",
    "        pickle_out.close()"
   ]
  },
  {
   "cell_type": "code",
   "execution_count": null,
   "metadata": {},
   "outputs": [],
   "source": [
    "print('StartingNet')\n",
    "k=Network_Analysis(raw_data=normalized_count,nodes=list_of_nodes,respath='../PathToStoreResults',cat=categoryNumber)\n",
    "print('SavingNet')\n",
    "k.save_network()"
   ]
  }
 ],
 "metadata": {
  "kernelspec": {
   "display_name": "Python 3",
   "language": "python",
   "name": "python3"
  },
  "language_info": {
   "codemirror_mode": {
    "name": "ipython",
    "version": 3
   },
   "file_extension": ".py",
   "mimetype": "text/x-python",
   "name": "python",
   "nbconvert_exporter": "python",
   "pygments_lexer": "ipython3",
   "version": "3.7.4"
  }
 },
 "nbformat": 4,
 "nbformat_minor": 4
}
