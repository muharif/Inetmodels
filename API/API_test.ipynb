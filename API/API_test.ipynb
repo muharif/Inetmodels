{
 "cells": [
  {
   "cell_type": "markdown",
   "metadata": {},
   "source": [
    "## Tutorial on how to use inetmodels python API\n",
    "\n",
    "### Main Website: http://inetmodels.com\n",
    "\n",
    "1. Download inetmodels.py file from the github repository/the main website\n",
    "\n",
    "2. Import the library\n",
    "\n",
    "```python\n",
    "from inetmodels import *\n",
    "```\n",
    "3. Initialize the Inetmodels class. It will also show the network type and categories that are available\n",
    "\n",
    "```python\n",
    "k=Inetmodels()\n",
    "```\n",
    "\n",
    "4. Check the specific network that you want\n",
    "\n",
    "```python\n",
    "k.printCategories(networkType,categoryType)\n",
    "```\n",
    "\n",
    "5. Query the genes/analytes that you need\n",
    "\n",
    "```python\n",
    "k.query(networkType, # MON or GCN, default = \"\"\n",
    "      categoryType, # integer, default = 0\n",
    "      categoryName, # string, default = \"\"\n",
    "      search, #list of strings, default = []\n",
    "      pruning, #float, default = 2.5, means FDR < 10E-2.5\n",
    "      nodeLimit, #integer, default = 10 \n",
    "      firstNeighbour, #boolean, default = True \n",
    "      gene, #boolean, default = True \n",
    "      metabolite, #boolean, default = True \n",
    "      protein, #boolean, default = True \n",
    "      clinical, #boolean, default = True \n",
    "      microbiome #boolean, default = True \n",
    "       )\n",
    "```"
   ]
  },
  {
   "cell_type": "code",
   "execution_count": null,
   "metadata": {},
   "outputs": [],
   "source": [
    "from inetmodels import *"
   ]
  },
  {
   "cell_type": "code",
   "execution_count": null,
   "metadata": {},
   "outputs": [],
   "source": [
    "#Initialization\n",
    "k=Inetmodels()"
   ]
  },
  {
   "cell_type": "code",
   "execution_count": null,
   "metadata": {},
   "outputs": [],
   "source": [
    "#Print Categories for Multi-Omics Network, categoryType SCAPIS - SciLifeLab Wellness Profiling Study\n",
    "k.printCategories('MON',1)"
   ]
  },
  {
   "cell_type": "code",
   "execution_count": null,
   "metadata": {},
   "outputs": [],
   "source": [
    "#Print Categories for Gene Co-Expression Network, categoryType Cancer\n",
    "k.printCategories('GCN',2)\n",
    "\n",
    "#k.Categories are the dictionary of all network categories"
   ]
  },
  {
   "cell_type": "code",
   "execution_count": null,
   "metadata": {},
   "outputs": [],
   "source": [
    "#Querying \"Weight\" and \"L-Leucine \" in P100 Study\n",
    "k.query('MON',3,'Longitudinal - Overall',search = ['Weight','L-Leucine'])"
   ]
  },
  {
   "cell_type": "code",
   "execution_count": null,
   "metadata": {},
   "outputs": [],
   "source": [
    "#Edges of the network\n",
    "k.edges"
   ]
  },
  {
   "cell_type": "code",
   "execution_count": null,
   "metadata": {},
   "outputs": [],
   "source": [
    "#Nodes of the network. \"index\" is renamed to \"node\"\n",
    "k.nodes.rename_axis('node')"
   ]
  },
  {
   "cell_type": "code",
   "execution_count": null,
   "metadata": {},
   "outputs": [],
   "source": [
    "#Querying \"FASN\" and \"PKLR\" in Liver Cancer\n",
    "k.query('GCN',2,'Liver (LIHC)',search = ['FASN','PKLR'])"
   ]
  },
  {
   "cell_type": "code",
   "execution_count": null,
   "metadata": {},
   "outputs": [],
   "source": [
    "#Edges of the network\n",
    "k.edges"
   ]
  },
  {
   "cell_type": "code",
   "execution_count": null,
   "metadata": {},
   "outputs": [],
   "source": [
    "#Nodes of the network\n",
    "k.nodes"
   ]
  },
  {
   "cell_type": "code",
   "execution_count": null,
   "metadata": {},
   "outputs": [],
   "source": [
    "## Example on the help page\n",
    "#Querying \"L-Serine\", \"FGF21\", and \"ALAT\" in SCAPIS - SciLifeLab Wellness Profiling Study, and only showing clinical variables and microbiomes neighbor of those input variables\n",
    "#pruning variable to 0 and nodeLimit to 10\n",
    "k.query('MON',1,'Longitudinal - Overall',\n",
    "        search = ['L-Serine','FGF21', 'ALAT'], \n",
    "        gene = False, \n",
    "        metabolite= False, \n",
    "        protein = False, \n",
    "        nodeLimit = 10, \n",
    "        pruning = 0)"
   ]
  },
  {
   "cell_type": "code",
   "execution_count": null,
   "metadata": {},
   "outputs": [],
   "source": [
    "#Edges of the network\n",
    "k.edges"
   ]
  },
  {
   "cell_type": "code",
   "execution_count": null,
   "metadata": {},
   "outputs": [],
   "source": [
    "#Nodes of the network\n",
    "k.nodes"
   ]
  },
  {
   "cell_type": "markdown",
   "metadata": {},
   "source": [
    "## iGraph Integration\n",
    "\n",
    "We next build a network based on the edges above using iGraph package (has to be installed first, not part of the package)."
   ]
  },
  {
   "cell_type": "code",
   "execution_count": null,
   "metadata": {},
   "outputs": [],
   "source": [
    "import igraph, re"
   ]
  },
  {
   "cell_type": "code",
   "execution_count": null,
   "metadata": {},
   "outputs": [],
   "source": [
    "# create network object\n",
    "network = igraph.Graph.TupleList([tuple(x) for x in k.edges[['Source','Target','Weight']].values], directed=False, edge_attrs=['weight'])"
   ]
  },
  {
   "cell_type": "code",
   "execution_count": null,
   "metadata": {},
   "outputs": [],
   "source": [
    "# add node parameters\n",
    "for node_i in network.vs['name']:\n",
    "    network.vs.find(node_i)['analyte_type'] = k.nodes.loc[node_i,'AnalyteType'] # add ANALYTE type to each node\n",
    "    network.vs.find(node_i)['short_name'] = re.sub('\\s\\(.+','',node_i) # add short name to each node"
   ]
  },
  {
   "cell_type": "code",
   "execution_count": null,
   "metadata": {},
   "outputs": [],
   "source": [
    "layout = network.layout_fruchterman_reingold() #create layout\n",
    "\n",
    "#color for analyte type\n",
    "node_color_dictionary = {'CLINICAL':'#FF6699','METABOLITE':'#CC0066','MICROBIOME':'#9999FF', 'PROTEIN':'#00CC99'}\n",
    "node_color_list = [node_color_dictionary[x] for x in network.vs['analyte_type']]\n",
    "edge_color_list = ['orange' if i < 0 else \"blue\" for i in network.es['weight']]\n",
    "\n",
    "igraph.plot(network, layout=layout, vertex_color=node_color_list, edge_color=edge_color_list, vertex_label=network.vs['short_name'])"
   ]
  },
  {
   "cell_type": "code",
   "execution_count": null,
   "metadata": {},
   "outputs": [],
   "source": []
  }
 ],
 "metadata": {
  "hide_input": false,
  "kernelspec": {
   "display_name": "Python 3",
   "language": "python",
   "name": "python3"
  },
  "language_info": {
   "codemirror_mode": {
    "name": "ipython",
    "version": 3
   },
   "file_extension": ".py",
   "mimetype": "text/x-python",
   "name": "python",
   "nbconvert_exporter": "python",
   "pygments_lexer": "ipython3",
   "version": "3.7.4"
  }
 },
 "nbformat": 4,
 "nbformat_minor": 4
}
