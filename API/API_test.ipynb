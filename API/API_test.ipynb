{
 "cells": [
  {
   "cell_type": "markdown",
   "metadata": {},
   "source": [
    "## Tutorial on how to use inetmodels python API\n",
    "\n",
    "### Main Website: http://inetmodels.com\n",
    "\n",
    "1. Download inetmodels.py file from the github repository/the main website\n",
    "\n",
    "2. Import the library\n",
    "\n",
    "```python\n",
    "from inetmodels import *\n",
    "```\n",
    "3. Initialize the Inetmodels class. It will also show the network type and categories that are available\n",
    "\n",
    "```python\n",
    "k=Inetmodels()\n",
    "```\n",
    "\n",
    "4. Check the specific network that you want\n",
    "\n",
    "```python\n",
    "k.printCategories(networkType,categoryType)\n",
    "```\n",
    "\n",
    "5. Query the genes/analytes that you need\n",
    "\n",
    "```python\n",
    "k.query(networkType, # MON or GCN, default = \"\"\n",
    "      categoryType, # integer, default = 0\n",
    "      categoryName, # string, default = \"\"\n",
    "      search, #list of strings, default = []\n",
    "      pruning, #float, default = 2.5, means FDR < 10E-2.5\n",
    "      nodeLimit, #integer, default = 10 \n",
    "      firstNeighbour, #boolean, default = True \n",
    "      gene, #boolean, default = True \n",
    "      metabolite, #boolean, default = True \n",
    "      protein, #boolean, default = True \n",
    "      clinical, #boolean, default = True \n",
    "      microbiome #boolean, default = True \n",
    "       )\n",
    "```"
   ]
  },
  {
   "cell_type": "code",
   "execution_count": null,
   "metadata": {},
   "outputs": [],
   "source": [
    "from inetmodels import *"
   ]
  },
  {
   "cell_type": "code",
   "execution_count": null,
   "metadata": {},
   "outputs": [],
   "source": [
    "#Initialization\n",
    "k=Inetmodels()"
   ]
  },
  {
   "cell_type": "code",
   "execution_count": null,
   "metadata": {},
   "outputs": [],
   "source": [
    "#Print Categories for Multi-Omics Network, categoryType SCAPIS - SciLifeLab Wellness Profiling Study\n",
    "k.printCategories('MON',1)"
   ]
  },
  {
   "cell_type": "code",
   "execution_count": null,
   "metadata": {},
   "outputs": [],
   "source": [
    "#Print Categories for Gene Co-Expression Network, categoryType Cancer\n",
    "k.printCategories('GCN',2)\n",
    "\n",
    "#k.Categories are the dictionary of all network categories"
   ]
  },
  {
   "cell_type": "code",
   "execution_count": null,
   "metadata": {},
   "outputs": [],
   "source": [
    "#Querying \"Weight\" and \"L-Leucine \" in P100 Study\n",
    "k.query('MON',3,'Longitudinal - Overall',search = ['Weight','L-Leucine'])"
   ]
  },
  {
   "cell_type": "code",
   "execution_count": null,
   "metadata": {},
   "outputs": [],
   "source": [
    "#Edges of the network\n",
    "k.edges"
   ]
  },
  {
   "cell_type": "code",
   "execution_count": null,
   "metadata": {},
   "outputs": [],
   "source": [
    "#Nodes of the network\n",
    "k.nodes"
   ]
  },
  {
   "cell_type": "code",
   "execution_count": null,
   "metadata": {},
   "outputs": [],
   "source": [
    "#Querying \"FASN\" and \"PKLR\" in Liver Cancer\n",
    "k.query('GCN',2,'Liver (LIHC)',search = ['FASN','PKLR'])"
   ]
  },
  {
   "cell_type": "code",
   "execution_count": null,
   "metadata": {},
   "outputs": [],
   "source": [
    "#Edges of the network\n",
    "k.edges"
   ]
  },
  {
   "cell_type": "code",
   "execution_count": null,
   "metadata": {},
   "outputs": [],
   "source": [
    "#Nodes of the network\n",
    "k.nodes"
   ]
  },
  {
   "cell_type": "code",
   "execution_count": null,
   "metadata": {},
   "outputs": [],
   "source": [
    "## Example on the help page\n",
    "#Querying \"L-Serine\", \"FGF21\", and \"ALAT\" in SCAPIS - SciLifeLab Wellness Profiling Study, and only showing clinical variables and microbiomes neighbor of those input variables\n",
    "#pruning variable to 0 and nodeLimit to 10\n",
    "k.query('MON',1,'Longitudinal - Overall',search = ['L-Serine','FGF21', 'ALAT'], gene = False, metabolite= False, protein = False, nodeLimit = 10, pruning = 0)"
   ]
  },
  {
   "cell_type": "code",
   "execution_count": null,
   "metadata": {},
   "outputs": [],
   "source": [
    "#Edges of the network\n",
    "k.edges"
   ]
  },
  {
   "cell_type": "code",
   "execution_count": null,
   "metadata": {},
   "outputs": [],
   "source": [
    "#Nodes of the network\n",
    "k.nodes"
   ]
  },
  {
   "cell_type": "code",
   "execution_count": null,
   "metadata": {},
   "outputs": [],
   "source": []
  },
  {
   "cell_type": "code",
   "execution_count": null,
   "metadata": {},
   "outputs": [],
   "source": []
  }
 ],
 "metadata": {
  "kernelspec": {
   "display_name": "Python 3",
   "language": "python",
   "name": "python3"
  },
  "language_info": {
   "codemirror_mode": {
    "name": "ipython",
    "version": 3
   },
   "file_extension": ".py",
   "mimetype": "text/x-python",
   "name": "python",
   "nbconvert_exporter": "python",
   "pygments_lexer": "ipython3",
   "version": "3.7.4"
  }
 },
 "nbformat": 4,
 "nbformat_minor": 4
}
